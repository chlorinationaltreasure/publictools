{
 "cells": [
  {
   "cell_type": "code",
   "execution_count": 7,
   "id": "e1af086c",
   "metadata": {},
   "outputs": [
    {
     "name": "stdout",
     "output_type": "stream",
     "text": [
      "[0.2        0.29906976 0.4472136  0.6687403  1.        ]\n"
     ]
    }
   ],
   "source": [
    "import numpy as np\n",
    "\n",
    "low=0.2\n",
    "high=1\n",
    "n=5\n",
    "\n",
    "y=np.log10(low)\n",
    "x=(np.log10(high)-y)/(n-1)\n",
    "\n",
    "q=np.arange(n)\n",
    "grid=10**(q*x+y)\n",
    "\n",
    "\n",
    "step=(high-low)/(n-1)\n",
    "gridlin=q*step+low\n",
    "\n",
    "print(grid)\n",
    "#print(gridlin)"
   ]
  },
  {
   "cell_type": "code",
   "execution_count": 2,
   "id": "d9f89fd8",
   "metadata": {},
   "outputs": [
    {
     "data": {
      "text/plain": [
       "array([0, 1, 2, 3, 4])"
      ]
     },
     "execution_count": 2,
     "metadata": {},
     "output_type": "execute_result"
    }
   ],
   "source": [
    "np.arange(n)"
   ]
  },
  {
   "cell_type": "code",
   "execution_count": null,
   "id": "346d4ab0",
   "metadata": {},
   "outputs": [],
   "source": []
  }
 ],
 "metadata": {
  "kernelspec": {
   "display_name": "Python 3 (ipykernel)",
   "language": "python",
   "name": "python3"
  },
  "language_info": {
   "codemirror_mode": {
    "name": "ipython",
    "version": 3
   },
   "file_extension": ".py",
   "mimetype": "text/x-python",
   "name": "python",
   "nbconvert_exporter": "python",
   "pygments_lexer": "ipython3",
   "version": "3.11.5"
  }
 },
 "nbformat": 4,
 "nbformat_minor": 5
}
